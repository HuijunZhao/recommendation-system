{
 "cells": [
  {
   "cell_type": "code",
   "execution_count": 1,
   "metadata": {
    "collapsed": true
   },
   "outputs": [],
   "source": [
    "import pandas as pd\n",
    "from sklearn.model_selection import train_test_split\n",
    "import numpy as np\n",
    "import math as mt\n",
    "import time\n",
    "import json"
   ]
  },
  {
   "cell_type": "markdown",
   "metadata": {},
   "source": [
    "Preview of data."
   ]
  },
  {
   "cell_type": "code",
   "execution_count": 2,
   "metadata": {},
   "outputs": [
    {
     "data": {
      "text/html": [
       "<div>\n",
       "<style scoped>\n",
       "    .dataframe tbody tr th:only-of-type {\n",
       "        vertical-align: middle;\n",
       "    }\n",
       "\n",
       "    .dataframe tbody tr th {\n",
       "        vertical-align: top;\n",
       "    }\n",
       "\n",
       "    .dataframe thead th {\n",
       "        text-align: right;\n",
       "    }\n",
       "</style>\n",
       "<table border=\"1\" class=\"dataframe\">\n",
       "  <thead>\n",
       "    <tr style=\"text-align: right;\">\n",
       "      <th></th>\n",
       "      <th>reviewerID</th>\n",
       "      <th>asin</th>\n",
       "      <th>overall</th>\n",
       "    </tr>\n",
       "  </thead>\n",
       "  <tbody>\n",
       "    <tr>\n",
       "      <th>0</th>\n",
       "      <td>A11N155CW1UV02</td>\n",
       "      <td>B000H00VBQ</td>\n",
       "      <td>2.0</td>\n",
       "    </tr>\n",
       "    <tr>\n",
       "      <th>1</th>\n",
       "      <td>A3BC8O2KCL29V2</td>\n",
       "      <td>B000H00VBQ</td>\n",
       "      <td>5.0</td>\n",
       "    </tr>\n",
       "    <tr>\n",
       "      <th>2</th>\n",
       "      <td>A60D5HQFOTSOM</td>\n",
       "      <td>B000H00VBQ</td>\n",
       "      <td>1.0</td>\n",
       "    </tr>\n",
       "    <tr>\n",
       "      <th>3</th>\n",
       "      <td>A1RJPIGRSNX4PW</td>\n",
       "      <td>B000H00VBQ</td>\n",
       "      <td>4.0</td>\n",
       "    </tr>\n",
       "    <tr>\n",
       "      <th>4</th>\n",
       "      <td>A16XRPF40679KG</td>\n",
       "      <td>B000H00VBQ</td>\n",
       "      <td>5.0</td>\n",
       "    </tr>\n",
       "  </tbody>\n",
       "</table>\n",
       "</div>"
      ],
      "text/plain": [
       "       reviewerID        asin  overall\n",
       "0  A11N155CW1UV02  B000H00VBQ      2.0\n",
       "1  A3BC8O2KCL29V2  B000H00VBQ      5.0\n",
       "2   A60D5HQFOTSOM  B000H00VBQ      1.0\n",
       "3  A1RJPIGRSNX4PW  B000H00VBQ      4.0\n",
       "4  A16XRPF40679KG  B000H00VBQ      5.0"
      ]
     },
     "execution_count": 2,
     "metadata": {},
     "output_type": "execute_result"
    }
   ],
   "source": [
    "def get_list_of_dicts(fname): \n",
    "    return [json.loads(i) for i in open(fname, \"rt\")]\n",
    "\n",
    "raw_data = get_list_of_dicts(\"Amazon_Instant_Video_5.json\")\n",
    "\n",
    "ratings_df = pd.DataFrame(raw_data).loc[:, [\"reviewerID\", \"asin\", \"overall\"]]\n",
    "ratings_df.head()"
   ]
  },
  {
   "cell_type": "code",
   "execution_count": 3,
   "metadata": {},
   "outputs": [
    {
     "name": "stdout",
     "output_type": "stream",
     "text": [
      "There are in total 37126 ratings.\n",
      "There are 5130 distinct users and 1685 distinct movies.\n"
     ]
    }
   ],
   "source": [
    "print('There are in total', len(ratings_df), 'ratings.')\n",
    "\n",
    "n_users = ratings_df['reviewerID'].unique().shape[0]\n",
    "n_items = ratings_df['asin'].unique().shape[0]\n",
    "print ('There are', n_users,  'distinct users and', n_items, 'distinct movies.')"
   ]
  },
  {
   "cell_type": "code",
   "execution_count": 4,
   "metadata": {},
   "outputs": [
    {
     "name": "stdout",
     "output_type": "stream",
     "text": [
      "The sparsity level of datasets is 99.6 %\n"
     ]
    }
   ],
   "source": [
    "users = ratings_df['reviewerID'].unique()\n",
    "sparsity=round(1.0-len(ratings_df)/float(n_users*n_items),3)\n",
    "print('The sparsity level of datasets is', sparsity*100, '%')"
   ]
  },
  {
   "cell_type": "markdown",
   "metadata": {},
   "source": [
    "Train-test splitting."
   ]
  },
  {
   "cell_type": "code",
   "execution_count": 5,
   "metadata": {
    "collapsed": true
   },
   "outputs": [],
   "source": [
    "train_data, test_data = train_test_split(ratings_df, test_size=0.2)"
   ]
  },
  {
   "cell_type": "markdown",
   "metadata": {},
   "source": [
    "Item similarity model"
   ]
  },
  {
   "cell_type": "code",
   "execution_count": 6,
   "metadata": {
    "collapsed": true
   },
   "outputs": [],
   "source": [
    "class item_similarity_recommender():\n",
    "    def __init__(self):\n",
    "        self.train_data = None\n",
    "        self.user_id = None\n",
    "        self.item_id = None\n",
    "        self.cooccurence_matrix = None\n",
    "        self.movies_dict = None\n",
    "        self.rev_movies_dict = None\n",
    "        self.item_similarity_recommendations = None\n",
    "        \n",
    "    #Get unique movies corresponding to a given user\n",
    "    def get_user_items(self, user):\n",
    "        user_data = self.train_data[self.train_data[self.user_id] == user]\n",
    "        user_items = list(user_data[self.item_id].unique())       \n",
    "        return user_items\n",
    "        \n",
    "    #Get unique users for a given movie\n",
    "    def get_item_users(self, item):\n",
    "        item_data = self.train_data[self.train_data[self.item_id] == item]\n",
    "        item_users = set(item_data[self.user_id].unique())            \n",
    "        return item_users\n",
    "        \n",
    "    #Get unique movies in the training data\n",
    "    def get_all_items_train_data(self):\n",
    "        all_items = list(self.train_data[self.item_id].unique())            \n",
    "        return all_items\n",
    "        \n",
    "    #Construct cooccurence matrix\n",
    "    def construct_cooccurence_matrix(self, user_movies, all_movies):\n",
    "        #Get users for all movies in user_movies.\n",
    "        user_movies_users = []        \n",
    "        for i in range(0, len(user_movies)):\n",
    "            user_movies_users.append(self.get_item_users(user_movies[i]))\n",
    "            \n",
    "        cooccurence_matrix = np.matrix(np.zeros(shape=(len(user_movies), len(all_movies))), float)           \n",
    "        #Calculate similarity between user movies and all unique moviesin the training data\n",
    "        for i in range(0,len(all_movies)):\n",
    "            #Calculate unique users of movie i\n",
    "            movies_i_data = self.train_data[self.train_data[self.item_id] == all_movies[i]]\n",
    "            users_i = set(movies_i_data[self.user_id].unique())\n",
    "            \n",
    "            for j in range(0,len(user_movies)):                           \n",
    "                #Get the intersection of users of moviess i and j\n",
    "                users_j = user_movies_users[j]\n",
    "                users_intersection = users_i.intersection(users_j)\n",
    "                \n",
    "                #Calculate cooccurence_matrix[i,j] as Jaccard Index\n",
    "                if len(users_intersection) != 0:\n",
    "                    #Calculate union of users of movies i and j\n",
    "                    users_union = users_i.union(users_j)                   \n",
    "                    cooccurence_matrix[j,i] = float(len(users_intersection))/float(len(users_union))\n",
    "                else:\n",
    "                    cooccurence_matrix[j,i] = 0        \n",
    "        return cooccurence_matrix\n",
    "\n",
    "    #Use the cooccurence matrix to make top recommendations\n",
    "    def generate_top_recommendations(self, user, cooccurence_matrix, all_movies, user_movies):\n",
    "        #Calculate a weighted average of the scores in cooccurence matrix for all user_movies.\n",
    "        user_sim_scores = cooccurence_matrix.sum(axis=0)/float(cooccurence_matrix.shape[0])\n",
    "        user_sim_scores = np.array(user_sim_scores)[0].tolist()\n",
    " \n",
    "        #Sort the indices of user_sim_scores based upon their value, maintaining the corresponding score\n",
    "        sort_index = sorted(((e,i) for i,e in enumerate(list(user_sim_scores))), reverse=True)\n",
    "    \n",
    "        #Top 10 item based recommendations\n",
    "        columns = ['user_id', 'movie', 'score', 'rank']\n",
    "        df = pd.DataFrame(columns=columns)\n",
    "        rank = 1 \n",
    "        for i in range(0,len(sort_index)):\n",
    "            if ~np.isnan(sort_index[i][0]) and all_movies[sort_index[i][1]] not in user_movies and rank <= 10:\n",
    "                df.loc[len(df)]=[user,all_movies[sort_index[i][1]],sort_index[i][0],rank]\n",
    "                rank += 1\n",
    "        \n",
    "        #Handle the case where there are no recommendations\n",
    "        if df.shape[0] == 0:\n",
    "            print(\"The current user has no movie for training the item similarity based recommendation model.\")\n",
    "            return -1\n",
    "        else:\n",
    "            return df\n",
    " \n",
    "    #Create the item similarity based recommender system model\n",
    "    def create(self, train_data, user_id, item_id):\n",
    "        self.train_data = train_data\n",
    "        self.user_id = user_id\n",
    "        self.item_id = item_id\n",
    "\n",
    "    #Use the item similarity based recommender system model to make recommendations\n",
    "    def recommend(self, user):\n",
    "        user_movies = self.get_user_items(user)    \n",
    "        all_movies = self.get_all_items_train_data()\n",
    "        cooccurence_matrix = self.construct_cooccurence_matrix(user_movies, all_movies)\n",
    "        df_recommendations = self.generate_top_recommendations(user, cooccurence_matrix, all_movies, user_movies)\n",
    "        return df_recommendations\n",
    "    \n",
    "    #Get similar items to given items\n",
    "    def get_similar_items(self, item_list):        \n",
    "        user_movies = item_list\n",
    "        all_movies = self.get_all_items_train_data()\n",
    "        cooccurence_matrix = self.construct_cooccurence_matrix(user_songs, all_movies)\n",
    "        user = \"\"\n",
    "        df_recommendations = self.generate_top_recommendations(user, cooccurence_matrix, all_movies, user_movies)\n",
    "        return df_recommendations"
   ]
  },
  {
   "cell_type": "code",
   "execution_count": 7,
   "metadata": {},
   "outputs": [
    {
     "name": "stdout",
     "output_type": "stream",
     "text": [
      "For user A60D5HQFOTSOM the recommended asins are:\n",
      "['B007UMK3SA', 'B004GTOKM0', 'B00DYQAT8K', 'B000MMX5E4', 'B004RZMQCE', 'B0045TGRSG', 'B0040HNZTW', 'B009O6QKKK', 'B007WPLZAK', 'B00CW8CHNQ']\n"
     ]
    }
   ],
   "source": [
    "#Create the model\n",
    "is_model =item_similarity_recommender()\n",
    "is_model.create(train_data, 'reviewerID', 'asin')\n",
    "\n",
    "#Make recommendations\n",
    "user_id = users[2]\n",
    "recom1 = is_model.recommend(user_id)\n",
    "print('For user', user_id, 'the recommended asins are:')\n",
    "print(list(recom1['movie']))"
   ]
  },
  {
   "cell_type": "markdown",
   "metadata": {},
   "source": [
    "SVD recommender model"
   ]
  },
  {
   "cell_type": "code",
   "execution_count": 8,
   "metadata": {
    "collapsed": true
   },
   "outputs": [],
   "source": [
    "from scipy.sparse.linalg import svds\n",
    "\n",
    "class svd_recommender():\n",
    "    def __init__(self):\n",
    "        self.train_data = None\n",
    "        self.k = None\n",
    "    \n",
    "    #Create the svd recommender model\n",
    "    def create(self, train_data, k):\n",
    "        self.train_data = train_data\n",
    "        self.k = k\n",
    "        \n",
    "    #Get unique items (movie) corresponding to a given user\n",
    "    def get_user_items(self, user):\n",
    "        user_data = self.train_data[self.train_data['reviewerID'] == user]\n",
    "        user_items = list(user_data['asin'].unique())        \n",
    "        return user_items\n",
    "\n",
    "    #Make recommendations using SVD \n",
    "    def recommend(self, user): \n",
    "        user_movies = self.get_user_items(user) \n",
    "        #get SVD components from train matrix. Choose k.\n",
    "        train_data_matrix = self.train_data.pivot_table(index=['reviewerID'],columns=['asin'],values='overall',fill_value=0)\n",
    "        train_data_matrix = train_data_matrix.astype(float)\n",
    "        u, s, vt = svds(train_data_matrix, self.k)\n",
    "        s_diag_matrix=np.diag(s)\n",
    "        X_pred = -np.dot(np.dot(u, s_diag_matrix), vt)\n",
    "        idx = train_data_matrix.index.get_loc(user)\n",
    "        recom = []\n",
    "        rank = 1\n",
    "        for i in (X_pred[idx, :]).argsort():\n",
    "            movie = list(train_data_matrix)[i]\n",
    "            if movie not in user_movies and rank <= 10:\n",
    "                recom.append(movie)\n",
    "                rank += 1\n",
    "        return recom"
   ]
  },
  {
   "cell_type": "code",
   "execution_count": 9,
   "metadata": {},
   "outputs": [
    {
     "name": "stdout",
     "output_type": "stream",
     "text": [
      "For user A60D5HQFOTSOM the recommended asins are:\n",
      "['B00APE00H4', 'B00I3MPDP4', 'B006Z48TZS', 'B004MWZLYC', 'B00I3MNGCG', 'B00DAHSVYC', 'B00B8P8O9K', 'B00I3MNVBW', 'B00I3MMN4I', 'B00CDBTQCW']\n"
     ]
    }
   ],
   "source": [
    "#Create the model\n",
    "svd_model = svd_recommender()\n",
    "svd_model.create(train_data, 2)\n",
    "\n",
    "#Make recommendations\n",
    "recom = svd_model.recommend(user_id)\n",
    "print('For user', user_id, 'the recommended asins are:')\n",
    "print(list(recom))"
   ]
  },
  {
   "cell_type": "markdown",
   "metadata": {},
   "source": [
    "Model Evaluation (Precision-recall)"
   ]
  },
  {
   "cell_type": "code",
   "execution_count": 10,
   "metadata": {
    "collapsed": true
   },
   "outputs": [],
   "source": [
    "import random\n",
    "\n",
    "class precision_recall_calculator():    \n",
    "    def __init__(self, test_data, train_data, svd, is_model):\n",
    "        self.test_data = test_data\n",
    "        self.train_data = train_data\n",
    "        self.user_test_sample = None\n",
    "        self.model1 = svd\n",
    "        self.model2 = is_model\n",
    "        \n",
    "        self.ism_training_dict = dict()\n",
    "        self.svd_training_dict = dict()\n",
    "        self.test_dict = dict()\n",
    "    \n",
    "    #Method to return random percentage of values from a list\n",
    "    def remove_percentage(self, list_a, percentage):\n",
    "        k = int(len(list_a) * percentage)\n",
    "        random.seed(0)\n",
    "        indicies = random.sample(range(len(list_a)), k)\n",
    "        new_list = [list_a[i] for i in indicies]    \n",
    "        return new_list\n",
    "    \n",
    "    #Create a test sample of users for use in calculating precision and recall\n",
    "    def create_user_test_sample(self, percentage):\n",
    "        #Find users common between training and test set\n",
    "        users_test_and_training = list(set(self.test_data['reviewerID'].unique()).intersection(set(self.train_data['reviewerID'].unique())))\n",
    "        print(\"Length of user_test_and_training:\", len(users_test_and_training))\n",
    "        #Take only random user_sample of users for evaluations\n",
    "        self.users_test_sample = self.remove_percentage(users_test_and_training, percentage)\n",
    "        print(\"Length of user sample:\", len(self.users_test_sample))\n",
    "        \n",
    "    #Method to generate top 10 recommendations for test_sample users\n",
    "    def get_test_sample_recommendations(self):\n",
    "        for user_id in self.users_test_sample:\n",
    "            #Get items for user_id from item similarity model\n",
    "            print(\"Getting recommendations for user:\", user_id)\n",
    "            user_sim_items = self.model2.recommend(user_id)\n",
    "            self.ism_training_dict[user_id] = list(user_sim_items['movie'])\n",
    "    \n",
    "            #Get items for user_id from svd model\n",
    "            user_svd = self.model1.recommend(user_id)\n",
    "            self.svd_training_dict[user_id] = list(user_svd)\n",
    "    \n",
    "            #Get items for user_id from test_data\n",
    "            test_data_user = self.test_data[self.test_data['reviewerID'] == user_id]\n",
    "            self.test_dict[user_id] = set(test_data_user['asin'].unique() )\n",
    "    \n",
    "    #Method to calculate the precision and recall measures\n",
    "    def calculate_precision_recall(self):\n",
    "        #Create cutoff list for precision and recall calculation\n",
    "        cutoff_list = list(range(1,11))\n",
    "        #For each distinct cutoff:\n",
    "        #    1. For each distinct user, calculate precision and recall.\n",
    "        #    2. Calculate average precision and recall.\n",
    "        ism_avg_precision_list = []\n",
    "        ism_avg_recall_list = []\n",
    "        svd_avg_precision_list = []\n",
    "        svd_avg_recall_list = []\n",
    "\n",
    "        num_users_sample = len(self.users_test_sample)\n",
    "        for N in cutoff_list:\n",
    "            ism_sum_precision = 0\n",
    "            ism_sum_recall = 0\n",
    "            svd_sum_precision = 0\n",
    "            svd_sum_recall = 0\n",
    "            ism_avg_precision = 0\n",
    "            ism_avg_recall = 0\n",
    "            svd_avg_precision = 0\n",
    "            svd_avg_recall = 0\n",
    "\n",
    "            for user_id in self.users_test_sample:\n",
    "                ism_hitset = self.test_dict[user_id].intersection(set(self.ism_training_dict[user_id][0:N]))\n",
    "                svd_hitset = self.test_dict[user_id].intersection(set(self.svd_training_dict[user_id][0:N]))\n",
    "                testset = self.test_dict[user_id]\n",
    "        \n",
    "                svd_sum_precision += float(len(svd_hitset))/float(N)\n",
    "                svd_sum_recall += float(len(svd_hitset))/float(len(testset))\n",
    "\n",
    "                ism_sum_precision += float(len(ism_hitset))/float(len(testset))\n",
    "                ism_sum_recall += float(len(ism_hitset))/float(N)\n",
    "        \n",
    "            svd_avg_precision = svd_sum_precision/float(num_users_sample)\n",
    "            svd_avg_recall = svd_sum_recall/float(num_users_sample)\n",
    "    \n",
    "            ism_avg_precision = ism_sum_precision/float(num_users_sample)\n",
    "            ism_avg_recall = ism_sum_recall/float(num_users_sample)\n",
    "\n",
    "            ism_avg_precision_list.append(ism_avg_precision)\n",
    "            ism_avg_recall_list.append(ism_avg_recall)\n",
    "    \n",
    "            svd_avg_precision_list.append(svd_avg_precision)\n",
    "            svd_avg_recall_list.append(svd_avg_recall)\n",
    "            \n",
    "        return (svd_avg_precision_list, svd_avg_recall_list, ism_avg_precision_list, ism_avg_recall_list)\n",
    "     \n",
    "    #A wrapper method to calculate all the evaluation measures\n",
    "    def calculate_measures(self, percentage):\n",
    "        self.create_user_test_sample(percentage)\n",
    "        self.get_test_sample_recommendations()\n",
    "        #Calculate precision and recall at different cutoff values\n",
    "        #for svd mode (svd) as well as item similarity model (ism)        \n",
    "        return self.calculate_precision_recall()"
   ]
  },
  {
   "cell_type": "code",
   "execution_count": 11,
   "metadata": {},
   "outputs": [
    {
     "name": "stdout",
     "output_type": "stream",
     "text": [
      "Length of user_test_and_training: 3895\n",
      "Length of user sample: 38\n",
      "Getting recommendations for user: A1SVH87LULFM3L\n",
      "Getting recommendations for user: AKQ06T21M0V0S\n",
      "Getting recommendations for user: AIM8TWIRDMDL2\n",
      "Getting recommendations for user: A3QWY38K6NOFK4\n",
      "Getting recommendations for user: A33H5DIDZFGYYS\n",
      "Getting recommendations for user: A84SIUM0F6E8H\n",
      "Getting recommendations for user: A9I3FRQV0H5SZ\n",
      "Getting recommendations for user: AGXO0AH7D1284\n",
      "Getting recommendations for user: A3B57IDRH62UU9\n",
      "Getting recommendations for user: AICB3O50OQO63\n",
      "Getting recommendations for user: A2AW2ELILR91FN\n",
      "Getting recommendations for user: A1AZ5SU9513MN9\n",
      "Getting recommendations for user: A43QWTFQOP21Z\n",
      "Getting recommendations for user: A3UDYY6L2NH3JS\n",
      "Getting recommendations for user: A3444Y5KVITLL9\n",
      "Getting recommendations for user: A3T5VOTSKQ1B2X\n",
      "Getting recommendations for user: A2D4UNTD94BQ8K\n",
      "Getting recommendations for user: AR8SJ568APOS5\n",
      "Getting recommendations for user: A3EOCQAPGK6P3P\n",
      "Getting recommendations for user: A381DR9RJZMX7F\n",
      "Getting recommendations for user: A3MZ6SIN5I7NBF\n",
      "Getting recommendations for user: A217CC8F7N5717\n",
      "Getting recommendations for user: A1YMJM5AOBLT93\n",
      "Getting recommendations for user: ALV38J6DJVZLB\n",
      "Getting recommendations for user: A3EP6YVAYS9YM3\n",
      "Getting recommendations for user: A1O2TG3FAE733Y\n",
      "Getting recommendations for user: AVD86PUTVO4DF\n",
      "Getting recommendations for user: A32A78GI6956FW\n",
      "Getting recommendations for user: A4BUQGWF4FLV1\n",
      "Getting recommendations for user: AR1QNZK3HCT32\n",
      "Getting recommendations for user: A10HZVT7ZQEOP1\n",
      "Getting recommendations for user: A1DSC3G5NCKFSX\n",
      "Getting recommendations for user: A19X6PO7ZJC4VB\n",
      "Getting recommendations for user: A1SBSN5WW7H32K\n",
      "Getting recommendations for user: AWCODMEOA89YZ\n",
      "Getting recommendations for user: A1TEGE1QGQ7QYY\n",
      "Getting recommendations for user: A3CSOCHL03ZNWP\n",
      "Getting recommendations for user: A1F3NSLXFEG3C1\n",
      "Time used: 713.5785586833954\n"
     ]
    }
   ],
   "source": [
    "start = time.time()\n",
    "user_sample = 0.01\n",
    "pr = precision_recall_calculator(test_data, train_data, svd_model, is_model)\n",
    "(svd_avg_precision_list, svd_avg_recall_list, ism_avg_precision_list, ism_avg_recall_list) = pr.calculate_measures(user_sample)\n",
    "end = time.time()\n",
    "print(\"Time used:\", end - start)"
   ]
  },
  {
   "cell_type": "markdown",
   "metadata": {},
   "source": [
    "Plot the precision-recall curves"
   ]
  },
  {
   "cell_type": "code",
   "execution_count": 12,
   "metadata": {
    "collapsed": true
   },
   "outputs": [],
   "source": [
    "import pylab as pl\n",
    "\n",
    "def plot_precision_recall(m1_precision_list, m1_recall_list, m1_label, m2_precision_list, m2_recall_list, m2_label):\n",
    "    pl.clf()    \n",
    "    pl.plot(m1_recall_list, m1_precision_list, label=m1_label)\n",
    "    pl.plot(m2_recall_list, m2_precision_list, label=m2_label)\n",
    "    pl.xlabel('Recall')\n",
    "    pl.ylabel('Precision')\n",
    "    pl.title('Precision-Recall curve')\n",
    "    pl.legend(loc=9, bbox_to_anchor=(0.5, -0.2))\n",
    "    pl.show()"
   ]
  },
  {
   "cell_type": "code",
   "execution_count": 13,
   "metadata": {},
   "outputs": [
    {
     "data": {
      "image/png": "[encoded data removed]",
      "text/plain": [
       "<matplotlib.figure.Figure at 0x1ae3093bc18>"
      ]
     },
     "metadata": {},
     "output_type": "display_data"
    }
   ],
   "source": [
    "plot_precision_recall(svd_avg_precision_list, svd_avg_recall_list, \"SVD_model\",\n",
    "                      ism_avg_precision_list, ism_avg_recall_list, \"item_similarity_model\")"
   ]
  },
  {
   "cell_type": "markdown",
   "metadata": {},
   "source": [
    "Conclusion: Item-similarity model works much better that SVD. \n",
    "\n",
    "Possible reasons:\n",
    "1. Sparsity of the data.\n",
    "2. Dataset not large enough.\n",
    "3. Information from review texts is omitted. (This motivates us to try deep learning.)"
   ]
  }
 ],
 "metadata": {
  "kernelspec": {
   "display_name": "Python 3",
   "language": "python",
   "name": "python3"
  },
  "language_info": {
   "codemirror_mode": {
    "name": "ipython",
    "version": 3
   },
   "file_extension": ".py",
   "mimetype": "text/x-python",
   "name": "python",
   "nbconvert_exporter": "python",
   "pygments_lexer": "ipython3",
   "version": "3.6.1"
  }
 },
 "nbformat": 4,
 "nbformat_minor": 2
}
